{
  "nbformat": 4,
  "nbformat_minor": 0,
  "metadata": {
    "colab": {
      "provenance": [],
      "include_colab_link": true
    },
    "kernelspec": {
      "name": "python3",
      "display_name": "Python 3"
    }
  },
  "cells": [
    {
      "cell_type": "markdown",
      "metadata": {
        "id": "view-in-github",
        "colab_type": "text"
      },
      "source": [
        "<a href=\"https://colab.research.google.com/github/smcantab/Examples/blob/master/ns_discrete_test.ipynb\" target=\"_parent\"><img src=\"https://colab.research.google.com/assets/colab-badge.svg\" alt=\"Open In Colab\"/></a>"
      ]
    },
    {
      "cell_type": "markdown",
      "metadata": {
        "id": "JqGuGzWlxIG5"
      },
      "source": [
        "# Nested Sampling for discrete parameter spaces and degenerate likelihoods\n",
        "\n",
        "---\n",
        "\n",
        "From Murray's thesis:\n",
        "\n",
        "The progress of nested sampling is supposed to be independent of the likelihood function. The procedures that estimate quantities based on nested sampling results rely on this behavior. As an example, the geometric mean path suggests that with $N = 100$ particles nested sampling should typically get to $x = 0.1$ after about $−100 \\log 0.1 ≈ 230$ iterations. Now consider running nested sampling algorithm on a problem with the following likelihood function:\n",
        "\n",
        "$$\n",
        "L(x) =\n",
        "\\begin{cases}\n",
        "0.5 & 0\\leq x \\leq 0.1 \\\\\n",
        "0.01 & 0.1 < x \\leq 1  \n",
        "\\end{cases}\n",
        "$$\n",
        "\n",
        "After drawing $N = 100$ particles from the prior about $90$ of them will have $x > 0.1$ and $L=0.01$. If the inequality $L(\\theta^{(s)})>L(\\theta^{(s−1)})$ is strictly enforced all new particles must have $L>0.01$ and therefore $x<0.1$. Therefore $x=0.1$ will be reached in about $s=90$ iterations, leading to very wrong results. If instead $L(\\theta^{(s)})≥L(\\theta^{(s−1)})$ is enforced the results will still be wrong: $x=0.1$ will not be reached until about iteration $s=900$\n",
        "\n",
        "Solving the degeneracy problem requires imposing a total ordering on the $\\mathrm{d}x$ elements. Earlier presentations of nested sampling (Skilling, 2006) suggest introducing an auxiliary labeling of the states, $\\ell(\\theta)$ that resolves likelihood ties. It was suggested these labels could be chosen arbitrarily:  \n",
        "\n",
        "*“Random samples from Uniform[0, 1] suffice, as would a cryptographic identification key derived from $\\theta$, or almost anything else.”*\n",
        "\n",
        "However, a fixed key does not solve the problem with discrete parameters. If the $0.1<x<1$ plateau in the example above originated from a single discrete $\\theta$ setting, then all the $\\mathrm{d}x$ elements in this range would receive the same cryptographic key. Likelihood ties would still be unresolved. If random labels are employed and always regenerated on repeated observations of the same $\\theta$ then nested sampling will give the correct results.\n",
        "\n",
        "Skilling (2007) mentions a better way of thinking about the random ‘labels’. Instead of an extra piece of information attached to each parameter setting, $\\ell$ is an extra input variable for an extended problem with a likelihood that depends on $\\theta$ and $\\ell$. The distinction may seem fine: on large problems the same $\\theta$ location will rarely be revisited. But getting this right is important for obtaining correct answers on small test problems.\n",
        "\n",
        "The auxiliary joint distribution is over the variables of interest θ and an independent variable $\\ell \\in [0, 1]$:\n",
        "\n",
        "$$\\begin{aligned}\n",
        "p(\\theta, \\ell) = p(\\theta) p(\\ell) &= \\frac{1}{Z} L(\\theta) \\pi(\\theta) \\frac{1}{Z_\\ell} L_0(\\ell) \\pi_0(\\ell)\\\\\n",
        "&= \\frac{1}{Z} L_J(\\theta, \\ell) \\pi(\\theta)\n",
        "\\end{aligned}\n",
        "$$\n",
        "\n",
        "where $L_J(\\theta, \\ell)=L(\\theta)L_0(\\ell)$, $L_0(\\ell)=1+\\epsilon(\\ell-0.5)$, $\\pi_0(\\ell)=1$ and $Z_\\ell$=1. Standard nested sampling is now possible. At each iteration $L_J(\\theta,\\ell)$ must increase. We can choose $\\epsilon$ such that $\\log(\\epsilon)$ is smaller than the smallest difference in $\\log(L(\\theta))$ allowed by machine precision. This ensures the auxiliary variable $\\ell$ will only matter when $L(\\theta)=L(\\theta^{(s−1)})$.\n",
        "\n",
        "---\n",
        "\n",
        "Below I implement the serial and parallel versions of NS using the strategy above to show that, indeed, it works.\n",
        "\n",
        "First I do this adding a random number of the order $10^{-7}$ to the likelihood estimates. This works, but crucially the magnitude of the noise term matters in order for the floating point comparison to work. I find that `np.finfo(np.float32).eps * (np.random.uniform())` is what it takes. If instead we use `np.finfo(np.float32).eps` or 10 or 100 times as much, it does not work.\n",
        "\n",
        "Then I do the same but associate with each likelihood a random number $\\ell \\in [0, 1)$ to break ties. This is very robust and insightful as one can see what the progression in the random numbers used to break the ties is. It turns out that at every iteration the number of points taking a discrete discrete value e.g., $L(x)=0.01$ is such that it takes approximately $−100 \\log 0.1 ≈ 230$ steps to cover the entire range of $[0, 1)$."
      ]
    },
    {
      "cell_type": "code",
      "metadata": {
        "id": "3ofiDxQncUFW"
      },
      "source": [
        "import numpy as np\n",
        "import matplotlib.pyplot as plt"
      ],
      "execution_count": null,
      "outputs": []
    },
    {
      "cell_type": "code",
      "metadata": {
        "id": "jWj2DgKxca1H"
      },
      "source": [
        "frac=0.1\n",
        "def __logLhood(x, addnoise=False):\n",
        "    if x < frac:\n",
        "        y = 1.\n",
        "    if x >= frac:\n",
        "        y = 2.\n",
        "    if addnoise is True:\n",
        "        y += np.finfo(np.float32).eps * (np.random.uniform())\n",
        "    return y\n",
        "\n",
        "logLhood = np.vectorize(__logLhood)\n",
        "\n",
        "def sort_pair(x, lhl):\n",
        "    idx = lhl.argsort()\n",
        "    return x[idx], lhl[idx]\n",
        "\n",
        "def sort_triple(x, lhl, sortidx):\n",
        "    tmp = np.hstack((x.reshape(-1,1), lhl.reshape(-1,1), sortidx.reshape(-1,1))).tolist()\n",
        "    tmp = np.array(sorted(tmp, key=lambda x: (x[1], x[2])))\n",
        "    x, lhl, sortidx = tmp[:,0],tmp[:, 1],tmp[:, 2]\n",
        "    return x, lhl, sortidx\n",
        "\n",
        "def get_lhl_sorted(x, addnoise=False):\n",
        "    lhl = logLhood(x, addnoise=addnoise)\n",
        "    idx = lhl.argsort()\n",
        "    return x[idx], lhl[idx]"
      ],
      "execution_count": null,
      "outputs": []
    },
    {
      "cell_type": "code",
      "metadata": {
        "colab": {
          "base_uri": "https://localhost:8080/"
        },
        "id": "oxqXZkEccioH",
        "outputId": "9aa4c2d8-86f4-484d-ba78-c182a18560fd"
      },
      "source": [
        "# serial with jitter\n",
        "k = 100\n",
        "print('expected nsteps = {}'.format(np.log(1-frac)/np.log(k/(k+1))))\n",
        "print('expected compression = {}'.format(1-frac))\n",
        "x = np.random.uniform(size=k)\n",
        "x, lhl = get_lhl_sorted(x, addnoise=True)\n",
        "out = []\n",
        "for i in range(1000):\n",
        "    x, lhl = sort_pair(x, lhl)\n",
        "    xmin, lhlmin = x[0], lhl[0]\n",
        "#     print(xmin, lhlmin)\n",
        "    out.append(lhlmin)\n",
        "    if lhlmin >= 2:\n",
        "        break\n",
        "    while True:\n",
        "        trx = np.random.uniform()\n",
        "        trlhl = logLhood(trx, addnoise=True)\n",
        "        if trlhl > lhlmin:\n",
        "            break\n",
        "    x[0], lhl[0] = trx, trlhl\n",
        "out = np.array(out)\n",
        "n = out.size\n",
        "print('NS nsteps = {}'.format(n))\n",
        "print('NS compression = {}'.format((k/(k+1))**n))\n",
        "# test that out is sorted\n",
        "for i in range(out.size-1):\n",
        "    if out[i+1]-out[i] <= 0:\n",
        "        print(i, out[i], out[i+1])\n",
        "        break"
      ],
      "execution_count": null,
      "outputs": [
        {
          "output_type": "stream",
          "text": [
            "expected nsteps = 10.588644459423223\n",
            "expected compression = 0.9\n",
            "NS nsteps = 10\n",
            "NS compression = 0.9052869546929833\n"
          ],
          "name": "stdout"
        }
      ]
    },
    {
      "cell_type": "code",
      "metadata": {
        "colab": {
          "base_uri": "https://localhost:8080/"
        },
        "id": "KZADspBLclOV",
        "outputId": "212cea06-c0fe-45d6-c60e-e37b7fdc0275"
      },
      "source": [
        "# parallel with jitter\n",
        "k = 100\n",
        "print('expected nsteps = {}'.format(np.log(1-frac)/np.log(k/(k+1))))\n",
        "print('expected compression = {}'.format(1-frac))\n",
        "x = np.random.uniform(size=k)\n",
        "x, lhl = get_lhl_sorted(x, addnoise=True)\n",
        "out = []\n",
        "for _ in range(1000):\n",
        "    x, lhl = sort_pair(x, lhl)\n",
        "    xmin, lhlmin = x[0], lhl[0]\n",
        "    out.append(lhlmin)\n",
        "    if lhlmin >= 2:\n",
        "        break\n",
        "    for i in range(x.size):\n",
        "        while True:\n",
        "            trx = np.random.uniform()\n",
        "            trlhl = logLhood(trx, addnoise=True)\n",
        "            if trlhl > lhlmin:\n",
        "                break\n",
        "        x[i], lhl[i] = trx, trlhl\n",
        "out = np.array(out)\n",
        "n = out.size\n",
        "print('NS nsteps = {}'.format(n))\n",
        "print('NS compression = {}'.format((k/(k+1))**n))\n",
        "# test that out is sorted\n",
        "for i in range(out.size-1):\n",
        "    if out[i+1]-out[i] <= 0:\n",
        "        print(i, out[i], out[i+1])\n",
        "        break"
      ],
      "execution_count": null,
      "outputs": [
        {
          "output_type": "stream",
          "text": [
            "expected nsteps = 10.588644459423223\n",
            "expected compression = 0.9\n",
            "NS nsteps = 8\n",
            "NS compression = 0.9234832224823122\n"
          ],
          "name": "stdout"
        }
      ]
    },
    {
      "cell_type": "code",
      "metadata": {
        "colab": {
          "base_uri": "https://localhost:8080/",
          "height": 352
        },
        "id": "terY6QmBcnOi",
        "outputId": "972c3a31-4d51-4ab6-829f-c0e89c6905b7"
      },
      "source": [
        "# serial with sorting idx\n",
        "k = 100\n",
        "print('expected nsteps = {}'.format(np.log(1-frac)/np.log(k/(k+1))))\n",
        "print('expected compression = {}'.format(1-frac))\n",
        "x = np.random.uniform(size=k)\n",
        "lhl = logLhood(x, addnoise=False)\n",
        "sortidx = np.random.uniform(size=x.size)\n",
        "# sortidx = np.random.randint(np.iinfo(np.int64).max, size=x.size)\n",
        "x, lhl, sortidx = sort_triple(x, lhl, sortidx)\n",
        "out,  outx, outidx = [],[],[]\n",
        "for i in range(1000):\n",
        "    x, lhl, sortidx = sort_triple(x, lhl, sortidx)\n",
        "    xmin, lhlmin, idxmin = x[0], lhl[0], sortidx[0]\n",
        "    if lhlmin >= 2:\n",
        "        break\n",
        "    out.append(lhlmin)\n",
        "    outx.append(xmin)\n",
        "    outidx.append(idxmin)\n",
        "    while True:\n",
        "        trx = np.random.uniform()\n",
        "        trlhl = logLhood(trx, addnoise=False)\n",
        "        tridx = np.random.uniform()\n",
        "#         tridx = np.random.randint(np.iinfo(np.int64).max)\n",
        "        if (trlhl > lhlmin):\n",
        "            break\n",
        "        if (np.isclose(trlhl, lhlmin) and tridx > idxmin):\n",
        "            break\n",
        "    x[0], lhl[0], sortidx[0] = trx, trlhl, tridx\n",
        "out = np.array(out)\n",
        "n = out.size\n",
        "print('NS nsteps = {}'.format(n))\n",
        "print('NS compression = {}'.format((k/(k+1))**n))\n",
        "plt.plot(outidx)\n",
        "# plt.plot(outx)"
      ],
      "execution_count": null,
      "outputs": [
        {
          "output_type": "stream",
          "text": [
            "expected nsteps = 10.588644459423223\n",
            "expected compression = 0.9\n",
            "NS nsteps = 11\n",
            "NS compression = 0.8963237175178052\n"
          ],
          "name": "stdout"
        },
        {
          "output_type": "execute_result",
          "data": {
            "text/plain": [
              "[<matplotlib.lines.Line2D at 0x7f3d08adfb70>]"
            ]
          },
          "metadata": {
            "tags": []
          },
          "execution_count": 6
        },
        {
          "output_type": "display_data",
          "data": {
            "image/png": "[encoded data removed]",
            "text/plain": [
              "<Figure size 432x288 with 1 Axes>"
            ]
          },
          "metadata": {
            "tags": [],
            "needs_background": "light"
          }
        }
      ]
    },
    {
      "cell_type": "code",
      "metadata": {
        "colab": {
          "base_uri": "https://localhost:8080/",
          "height": 356
        },
        "id": "XJC7wazTcp6Z",
        "outputId": "b07110ed-4ea5-4941-8664-cd65054f7fad"
      },
      "source": [
        "# parallel with sorting idx\n",
        "k = 100\n",
        "print('expected nsteps = {}'.format(np.log(1-frac)/np.log(k/(k+1))))\n",
        "print('expected compression = {}'.format(1-frac))\n",
        "x = np.random.uniform(size=k)\n",
        "lhl = logLhood(x, addnoise=False)\n",
        "sortidx = np.random.uniform(size=x.size)\n",
        "# sortidx = np.random.randint(np.iinfo(np.int64).max, size=x.size)\n",
        "x, lhl, sortidx = sort_triple(x, lhl, sortidx)\n",
        "out,  outx, outidx = [],[],[]\n",
        "for _ in range(1000):\n",
        "    x, lhl, sortidx = sort_triple(x, lhl, sortidx)\n",
        "    xmin, lhlmin, idxmin = x[0], lhl[0], sortidx[0]\n",
        "    if lhlmin >= 2:\n",
        "        break\n",
        "    out.append(lhlmin)\n",
        "    outx.append(xmin)\n",
        "    outidx.append(idxmin)\n",
        "    for i in range(x.size):\n",
        "        while True:\n",
        "            trx = np.random.uniform()\n",
        "            trlhl = logLhood(trx, addnoise=False)\n",
        "            tridx = np.random.uniform()\n",
        "#             tridx = np.random.randint(np.iinfo(np.int64).max)\n",
        "            if (trlhl > lhlmin):\n",
        "                break\n",
        "            if (np.isclose(trlhl, lhlmin) and tridx > idxmin):\n",
        "                break\n",
        "        x[i], lhl[i], sortidx[i] = trx, trlhl, tridx\n",
        "out = np.array(out)\n",
        "n = out.size\n",
        "print('NS nsteps = {}'.format(n))\n",
        "print('NS compression = {}'.format((k/(k+1))**n))\n",
        "plt.plot(outidx)\n",
        "# plt.plot(outx)"
      ],
      "execution_count": null,
      "outputs": [
        {
          "output_type": "stream",
          "text": [
            "expected nsteps = 10.588644459423223\n",
            "expected compression = 0.9\n",
            "NS nsteps = 10\n",
            "NS compression = 0.9052869546929833\n"
          ],
          "name": "stdout"
        },
        {
          "output_type": "execute_result",
          "data": {
            "text/plain": [
              "[<matplotlib.lines.Line2D at 0x7f3d08608630>]"
            ]
          },
          "metadata": {
            "tags": []
          },
          "execution_count": 7
        },
        {
          "output_type": "display_data",
          "data": {
            "image/png": "[encoded data removed]",
            "text/plain": [
              "<Figure size 432x288 with 1 Axes>"
            ]
          },
          "metadata": {
            "tags": [],
            "needs_background": "light"
          }
        }
      ]
    },
    {
      "cell_type": "code",
      "metadata": {
        "id": "HPkv-YAlctiv"
      },
      "source": [],
      "execution_count": null,
      "outputs": []
    }
  ]
}